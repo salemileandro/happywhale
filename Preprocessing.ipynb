{
 "cells": [
  {
   "cell_type": "code",
   "execution_count": 9,
   "id": "806d5020",
   "metadata": {},
   "outputs": [],
   "source": [
    "import os\n",
    "import sys\n",
    "from multiprocessing import Pool, cpu_count\n",
    "from multiprocessing.pool import ThreadPool\n",
    "\n",
    "from tqdm import tqdm\n",
    "\n",
    "import numpy as np\n",
    "import pandas as pd\n",
    "import matplotlib.pyplot as plt\n",
    "import h5py as h5\n",
    "\n",
    "import tensorflow as tf\n",
    "import tensorflow_hub as hub\n",
    "from sklearn.utils.class_weight import compute_class_weight\n",
    "from sklearn.model_selection import StratifiedKFold\n",
    "\n",
    "# Custom library in dev\n",
    "import happy as hp"
   ]
  },
  {
   "cell_type": "code",
   "execution_count": 10,
   "id": "ea489cda",
   "metadata": {},
   "outputs": [],
   "source": [
    "P = {}\n",
    "\n",
    "P[\"TRAIN_CSV\"] = \"input/happy-whale-and-dolphin/train.csv\"\n",
    "\n",
    "P[\"TRAIN_FOLDER\"] = \"input/happy-whale-and-dolphin/train_images\"\n",
    "\n",
    "P[\"SIZE\"] = [224, 224]\n",
    "\n",
    "P[\"DSTDIR\"] = \"preprocessed_%d-%d\" % tuple(P[\"SIZE\"])"
   ]
  },
  {
   "cell_type": "code",
   "execution_count": 11,
   "id": "d8f86f14",
   "metadata": {},
   "outputs": [
    {
     "name": "stdout",
     "output_type": "stream",
     "text": [
      "51033\n"
     ]
    },
    {
     "data": {
      "text/html": [
       "<div>\n",
       "<style scoped>\n",
       "    .dataframe tbody tr th:only-of-type {\n",
       "        vertical-align: middle;\n",
       "    }\n",
       "\n",
       "    .dataframe tbody tr th {\n",
       "        vertical-align: top;\n",
       "    }\n",
       "\n",
       "    .dataframe thead th {\n",
       "        text-align: right;\n",
       "    }\n",
       "</style>\n",
       "<table border=\"1\" class=\"dataframe\">\n",
       "  <thead>\n",
       "    <tr style=\"text-align: right;\">\n",
       "      <th></th>\n",
       "      <th>image</th>\n",
       "      <th>species</th>\n",
       "      <th>individual_id</th>\n",
       "    </tr>\n",
       "  </thead>\n",
       "  <tbody>\n",
       "    <tr>\n",
       "      <th>0</th>\n",
       "      <td>00021adfb725ed.jpg</td>\n",
       "      <td>melon_headed_whale</td>\n",
       "      <td>cadddb1636b9</td>\n",
       "    </tr>\n",
       "    <tr>\n",
       "      <th>1</th>\n",
       "      <td>000562241d384d.jpg</td>\n",
       "      <td>humpback_whale</td>\n",
       "      <td>1a71fbb72250</td>\n",
       "    </tr>\n",
       "    <tr>\n",
       "      <th>2</th>\n",
       "      <td>0007c33415ce37.jpg</td>\n",
       "      <td>false_killer_whale</td>\n",
       "      <td>60008f293a2b</td>\n",
       "    </tr>\n",
       "    <tr>\n",
       "      <th>3</th>\n",
       "      <td>0007d9bca26a99.jpg</td>\n",
       "      <td>bottlenose_dolphin</td>\n",
       "      <td>4b00fe572063</td>\n",
       "    </tr>\n",
       "    <tr>\n",
       "      <th>4</th>\n",
       "      <td>00087baf5cef7a.jpg</td>\n",
       "      <td>humpback_whale</td>\n",
       "      <td>8e5253662392</td>\n",
       "    </tr>\n",
       "  </tbody>\n",
       "</table>\n",
       "</div>"
      ],
      "text/plain": [
       "                image             species individual_id\n",
       "0  00021adfb725ed.jpg  melon_headed_whale  cadddb1636b9\n",
       "1  000562241d384d.jpg      humpback_whale  1a71fbb72250\n",
       "2  0007c33415ce37.jpg  false_killer_whale  60008f293a2b\n",
       "3  0007d9bca26a99.jpg  bottlenose_dolphin  4b00fe572063\n",
       "4  00087baf5cef7a.jpg      humpback_whale  8e5253662392"
      ]
     },
     "execution_count": 11,
     "metadata": {},
     "output_type": "execute_result"
    }
   ],
   "source": [
    "TEST = False\n",
    "\n",
    "data_df = pd.read_csv(P[\"TRAIN_CSV\"])\n",
    "\n",
    "if TEST:\n",
    "    data_df = data_df.iloc[:30]\n",
    "print(len(data_df))\n",
    "data_df.head()"
   ]
  },
  {
   "cell_type": "code",
   "execution_count": 12,
   "id": "af488ee7",
   "metadata": {},
   "outputs": [
    {
     "name": "stdout",
     "output_type": "stream",
     "text": [
      "Size of dset = 7332.65 MB\n",
      "Size of dset = 7.16 GB\n"
     ]
    }
   ],
   "source": [
    "def jpg_to_array(filepath: str, dtype=tf.uint8):\n",
    "    x = tf.io.read_file(filepath)\n",
    "    x = tf.image.decode_jpeg(x)\n",
    "    x = tf.image.convert_image_dtype(x, tf.float32)\n",
    "    x = tf.image.resize(x, [224, 224], method=\"bicubic\")\n",
    "    if x.shape[2] == 1:\n",
    "        x = tf.image.grayscale_to_rgb(x)\n",
    "    x = tf.image.convert_image_dtype(x, dtype)\n",
    "    return x.numpy()\n",
    "\n",
    "\n",
    "# Estimate size of dataset\n",
    "x = jpg_to_array(os.path.join(P[\"TRAIN_FOLDER\"], data_df.at[0, \"image\"]))\n",
    "size_GB = len(data_df) * sys.getsizeof(x) / 1024**3\n",
    "print(\"Size of dset = %.2f MB\" % (size_GB*1024))\n",
    "print(\"Size of dset = %.2f GB\" % size_GB)"
   ]
  },
  {
   "cell_type": "code",
   "execution_count": 13,
   "id": "cea97d67",
   "metadata": {},
   "outputs": [
    {
     "name": "stderr",
     "output_type": "stream",
     "text": [
      "100%|██████████| 51033/51033 [27:35<00:00, 30.83it/s]\n"
     ]
    }
   ],
   "source": [
    "shape = (len(data_df), *P[\"SIZE\"], 3)\n",
    "\n",
    "np_data = np.empty(shape=shape, dtype=np.uint8)\n",
    "\n",
    "for idx in tqdm(data_df.index.values):\n",
    "    filepath = os.path.join(P[\"TRAIN_FOLDER\"], data_df.at[idx, \"image\"])\n",
    "    np_data[idx] = jpg_to_array(filepath)"
   ]
  },
  {
   "cell_type": "code",
   "execution_count": 15,
   "id": "b00b5265",
   "metadata": {},
   "outputs": [
    {
     "data": {
      "text/plain": [
       "(51033, 224, 224, 3)"
      ]
     },
     "execution_count": 15,
     "metadata": {},
     "output_type": "execute_result"
    }
   ],
   "source": [
    "np_data.shape"
   ]
  },
  {
   "cell_type": "code",
   "execution_count": 16,
   "id": "04278359",
   "metadata": {},
   "outputs": [
    {
     "data": {
      "text/plain": [
       "dtype('uint8')"
      ]
     },
     "execution_count": 16,
     "metadata": {},
     "output_type": "execute_result"
    }
   ],
   "source": [
    "np_data.dtype"
   ]
  },
  {
   "cell_type": "code",
   "execution_count": 26,
   "id": "db36869d",
   "metadata": {},
   "outputs": [],
   "source": [
    "h5file = os.path.join(P[\"DSTDIR\"], \"data.h5\")\n",
    "os.makedirs(P[\"DSTDIR\"], exist_ok=True)\n",
    "\n",
    "h5_shape = np_data.shape\n",
    "\n",
    "with h5.File(h5file, \"w\") as f:\n",
    "    f.create_dataset(\"img\", data=np_data,  shape=h5_shape, chunks=(1, *h5_shape[1:]), dtype=np.uint8)"
   ]
  },
  {
   "cell_type": "code",
   "execution_count": null,
   "id": "6b9f0ebc",
   "metadata": {},
   "outputs": [],
   "source": []
  },
  {
   "cell_type": "code",
   "execution_count": 25,
   "id": "1fc957ef",
   "metadata": {},
   "outputs": [
    {
     "name": "stdout",
     "output_type": "stream",
     "text": [
      "(51033, 224, 224, 3)\n"
     ]
    }
   ],
   "source": []
  },
  {
   "cell_type": "code",
   "execution_count": null,
   "id": "577e3869",
   "metadata": {},
   "outputs": [],
   "source": []
  }
 ],
 "metadata": {
  "kernelspec": {
   "display_name": "Python 3",
   "language": "python",
   "name": "python3"
  },
  "language_info": {
   "codemirror_mode": {
    "name": "ipython",
    "version": 3
   },
   "file_extension": ".py",
   "mimetype": "text/x-python",
   "name": "python",
   "nbconvert_exporter": "python",
   "pygments_lexer": "ipython3",
   "version": "3.7.11"
  }
 },
 "nbformat": 4,
 "nbformat_minor": 5
}
